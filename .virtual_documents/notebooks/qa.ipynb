import sys
import os
from dotenv import load_dotenv


# Add the parent folder to sys.path
sys.path.append(os.path.abspath("../"))



import os
from langchain_community.embeddings import HuggingFaceEmbeddings
from langchain_community.vectorstores import FAISS
from langchain.text_splitter import RecursiveCharacterTextSplitter

# Load text data
data_dir = "../data/medlineplus"
texts = []
for file in os.listdir(data_dir):
    if file.endswith(".txt"):
        with open(os.path.join(data_dir, file), encoding="utf-8") as f:
            texts.append(f.read())

# Chunking
splitter = RecursiveCharacterTextSplitter(chunk_size=500, chunk_overlap=50)
docs = splitter.create_documents(texts)

# Embedding and saving FAISS
embedding_model = HuggingFaceEmbeddings(model_name="sentence-transformers/all-MiniLM-L6-v2")
vectorstore = FAISS.from_documents(docs, embedding_model)
vectorstore.save_local("app/faiss_index")



from app.qa_bot import answer_question

answer_question("Is fever a symptom of COVID?")





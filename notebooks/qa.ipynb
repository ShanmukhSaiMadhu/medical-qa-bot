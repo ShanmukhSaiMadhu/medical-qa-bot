{
 "cells": [
  {
   "cell_type": "code",
   "execution_count": 1,
   "id": "7a0b7519-0f62-4945-bcc4-f07b64df9169",
   "metadata": {},
   "outputs": [],
   "source": [
    "import sys\n",
    "import os\n",
    "\n",
    "# Add the parent folder to sys.path\n",
    "sys.path.append(os.path.abspath(\"../\"))\n"
   ]
  },
  {
   "cell_type": "code",
   "execution_count": 2,
   "id": "24836022-73bf-4f41-b7d5-b22d6c4fdf3f",
   "metadata": {},
   "outputs": [
    {
     "name": "stdout",
     "output_type": "stream",
     "text": [
      "Loaded token: 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\n"
     ]
    }
   ],
   "source": [
    "from dotenv import load_dotenv\n",
    "import os\n",
    "\n",
    "load_dotenv()  # Make sure this line is called before os.getenv\n",
    "\n",
    "print(\"Loaded token:\", os.getenv(\"GROQ_API_KEY\"))  # Should now print token\n"
   ]
  },
  {
   "cell_type": "code",
   "execution_count": 3,
   "id": "2a78aa59-fbbb-4f54-9310-da53bfacdc9e",
   "metadata": {},
   "outputs": [
    {
     "name": "stderr",
     "output_type": "stream",
     "text": [
      "C:\\Users\\madhu\\AppData\\Local\\Temp\\ipykernel_27900\\2649525753.py:19: LangChainDeprecationWarning: The class `HuggingFaceEmbeddings` was deprecated in LangChain 0.2.2 and will be removed in 1.0. An updated version of the class exists in the :class:`~langchain-huggingface package and should be used instead. To use it run `pip install -U :class:`~langchain-huggingface` and import as `from :class:`~langchain_huggingface import HuggingFaceEmbeddings``.\n",
      "  embedding_model = HuggingFaceEmbeddings(model_name=\"sentence-transformers/all-MiniLM-L6-v2\")\n"
     ]
    }
   ],
   "source": [
    "import os\n",
    "from langchain_community.embeddings import HuggingFaceEmbeddings\n",
    "from langchain_community.vectorstores import FAISS\n",
    "from langchain.text_splitter import RecursiveCharacterTextSplitter\n",
    "\n",
    "# Load text data\n",
    "data_dir = \"../data/medlineplus\"\n",
    "texts = []\n",
    "for file in os.listdir(data_dir):\n",
    "    if file.endswith(\".txt\"):\n",
    "        with open(os.path.join(data_dir, file), encoding=\"utf-8\") as f:\n",
    "            texts.append(f.read())\n",
    "\n",
    "# Chunking\n",
    "splitter = RecursiveCharacterTextSplitter(chunk_size=500, chunk_overlap=50)\n",
    "docs = splitter.create_documents(texts)\n",
    "\n",
    "# Embedding and saving FAISS\n",
    "embedding_model = HuggingFaceEmbeddings(model_name=\"sentence-transformers/all-MiniLM-L6-v2\")\n",
    "vectorstore = FAISS.from_documents(docs, embedding_model)\n",
    "vectorstore.save_local(\"app/faiss_index\")\n"
   ]
  },
  {
   "cell_type": "code",
   "execution_count": 4,
   "id": "630b11d6-a72b-4399-b679-f702c13b6f19",
   "metadata": {},
   "outputs": [
    {
     "name": "stdout",
     "output_type": "stream",
     "text": [
      "I'm so glad you're taking the time to talk to me about your symptoms. Unfortunately, I don't see anything in the context about COVID or fever. I'm sorry, I don't have enough information to answer that based on the available material.\n",
      "\n",
      "However, I want to assure you that I'm here to listen and help you understand your symptoms. The list of symptoms provided doesn't mention fever, but if you're experiencing it, it could be related to another condition altogether. Let's focus on understanding the symptoms you're experiencing and see if we can get to the bottom of what's going on. How about we discuss some of the symptoms you mentioned earlier, like feeling thirsty, hungry, and urinating more often?"
     ]
    },
    {
     "data": {
      "text/plain": [
       "\"I'm so glad you're taking the time to talk to me about your symptoms. Unfortunately, I don't see anything in the context about COVID or fever. I'm sorry, I don't have enough information to answer that based on the available material.\\n\\nHowever, I want to assure you that I'm here to listen and help you understand your symptoms. The list of symptoms provided doesn't mention fever, but if you're experiencing it, it could be related to another condition altogether. Let's focus on understanding the symptoms you're experiencing and see if we can get to the bottom of what's going on. How about we discuss some of the symptoms you mentioned earlier, like feeling thirsty, hungry, and urinating more often?\""
      ]
     },
     "execution_count": 4,
     "metadata": {},
     "output_type": "execute_result"
    }
   ],
   "source": [
    "from app.qa_bot import answer_question\n",
    "\n",
    "answer_question(\"Is fever a symptom of COVID?\")\n"
   ]
  },
  {
   "cell_type": "code",
   "execution_count": null,
   "id": "dbc71386-4136-4df7-9b79-1ac0ed1aca21",
   "metadata": {},
   "outputs": [],
   "source": []
  }
 ],
 "metadata": {
  "kernelspec": {
   "display_name": "Python 3 (ipykernel)",
   "language": "python",
   "name": "python3"
  },
  "language_info": {
   "codemirror_mode": {
    "name": "ipython",
    "version": 3
   },
   "file_extension": ".py",
   "mimetype": "text/x-python",
   "name": "python",
   "nbconvert_exporter": "python",
   "pygments_lexer": "ipython3",
   "version": "3.11.5"
  }
 },
 "nbformat": 4,
 "nbformat_minor": 5
}

{
 "cells": [
  {
   "cell_type": "code",
   "execution_count": 1,
   "id": "7a0b7519-0f62-4945-bcc4-f07b64df9169",
   "metadata": {},
   "outputs": [
    {
     "name": "stderr",
     "output_type": "stream",
     "text": [
      "C:\\Users\\madhu\\AppData\\Local\\Temp\\ipykernel_17528\\1132654446.py:25: LangChainDeprecationWarning: The class `HuggingFaceEmbeddings` was deprecated in LangChain 0.2.2 and will be removed in 1.0. An updated version of the class exists in the :class:`~langchain-huggingface package and should be used instead. To use it run `pip install -U :class:`~langchain-huggingface` and import as `from :class:`~langchain_huggingface import HuggingFaceEmbeddings``.\n",
      "  embedding_model = HuggingFaceEmbeddings(model_name=\"sentence-transformers/all-MiniLM-L6-v2\")\n"
     ]
    }
   ],
   "source": [
    "import sys\n",
    "import os\n",
    "from dotenv import load_dotenv\n",
    "from langchain_community.embeddings import HuggingFaceEmbeddings\n",
    "from langchain_community.vectorstores import FAISS\n",
    "from langchain.text_splitter import RecursiveCharacterTextSplitter\n",
    "\n",
    "\n",
    "# Add the parent folder to sys.path\n",
    "sys.path.append(os.path.abspath(\"../\"))\n",
    "\n",
    "# Load text data\n",
    "data_dir = \"../data/medlineplus\"\n",
    "texts = []\n",
    "for file in os.listdir(data_dir):\n",
    "    if file.endswith(\".txt\"):\n",
    "        with open(os.path.join(data_dir, file), encoding=\"utf-8\") as f:\n",
    "            texts.append(f.read())\n",
    "\n",
    "# Chunking\n",
    "splitter = RecursiveCharacterTextSplitter(chunk_size=500, chunk_overlap=50)\n",
    "docs = splitter.create_documents(texts)\n",
    "\n",
    "# Embedding and saving FAISS\n",
    "embedding_model = HuggingFaceEmbeddings(model_name=\"sentence-transformers/all-MiniLM-L6-v2\")\n",
    "vectorstore = FAISS.from_documents(docs, embedding_model)\n",
    "vectorstore.save_local(\"../app/faiss_index\")"
   ]
  },
  {
   "cell_type": "code",
   "execution_count": 2,
   "id": "2a78aa59-fbbb-4f54-9310-da53bfacdc9e",
   "metadata": {},
   "outputs": [
    {
     "name": "stdout",
     "output_type": "stream",
     "text": [
      "HIV symptoms can be quite varied, and it's important to know that not everyone will experience them. In the early stages of HIV infection, you may notice some flu-like symptoms, such as a fever, chills, rash, and night sweats. You might also experience muscle aches, a sore throat, fatigue, and swollen lymph nodes. Some people may also develop mouth ulcers.\n",
      "\n",
      "What's important to remember is that these symptoms can come and go, and they may not be severe enough to make you feel unwell. In fact, some people may not even notice any symptoms at all during the early stages of HIV infection.\n",
      "\n",
      "It's only by getting tested that you can confirm whether you have HIV or not. A simple blood test can detect the virus, and your healthcare provider can perform the test for you or provide a home testing kit. If you're concerned about your symptoms or think you might have been exposed to HIV, it's always best to speak with your healthcare provider and get tested.\n",
      "\n",
      "Remember, HIV is a manageable condition, and with proper treatment, you can live a long and healthy life."
     ]
    },
    {
     "data": {
      "text/plain": [
       "\"HIV symptoms can be quite varied, and it's important to know that not everyone will experience them. In the early stages of HIV infection, you may notice some flu-like symptoms, such as a fever, chills, rash, and night sweats. You might also experience muscle aches, a sore throat, fatigue, and swollen lymph nodes. Some people may also develop mouth ulcers.\\n\\nWhat's important to remember is that these symptoms can come and go, and they may not be severe enough to make you feel unwell. In fact, some people may not even notice any symptoms at all during the early stages of HIV infection.\\n\\nIt's only by getting tested that you can confirm whether you have HIV or not. A simple blood test can detect the virus, and your healthcare provider can perform the test for you or provide a home testing kit. If you're concerned about your symptoms or think you might have been exposed to HIV, it's always best to speak with your healthcare provider and get tested.\\n\\nRemember, HIV is a manageable condition, and with proper treatment, you can live a long and healthy life.\""
      ]
     },
     "execution_count": 2,
     "metadata": {},
     "output_type": "execute_result"
    }
   ],
   "source": [
    "from app.qa_bot import answer_question\n",
    "\n",
    "answer_question(\"hiv symtoms\")\n"
   ]
  },
  {
   "cell_type": "code",
   "execution_count": null,
   "id": "75195e1a-49f4-4a15-98bd-86b260c781d7",
   "metadata": {},
   "outputs": [],
   "source": []
  }
 ],
 "metadata": {
  "kernelspec": {
   "display_name": "Python 3 (ipykernel)",
   "language": "python",
   "name": "python3"
  },
  "language_info": {
   "codemirror_mode": {
    "name": "ipython",
    "version": 3
   },
   "file_extension": ".py",
   "mimetype": "text/x-python",
   "name": "python",
   "nbconvert_exporter": "python",
   "pygments_lexer": "ipython3",
   "version": "3.11.5"
  }
 },
 "nbformat": 4,
 "nbformat_minor": 5
}

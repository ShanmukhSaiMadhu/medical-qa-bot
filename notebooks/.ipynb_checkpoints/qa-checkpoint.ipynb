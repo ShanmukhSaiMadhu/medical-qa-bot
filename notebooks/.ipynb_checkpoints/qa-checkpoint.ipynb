{
 "cells": [
  {
   "cell_type": "code",
   "execution_count": 4,
   "id": "7a0b7519-0f62-4945-bcc4-f07b64df9169",
   "metadata": {},
   "outputs": [],
   "source": [
    "import sys\n",
    "import os\n",
    "from dotenv import load_dotenv\n",
    "\n",
    "\n",
    "# Add the parent folder to sys.path\n",
    "sys.path.append(os.path.abspath(\"../\"))\n"
   ]
  },
  {
   "cell_type": "code",
   "execution_count": 2,
   "id": "2a78aa59-fbbb-4f54-9310-da53bfacdc9e",
   "metadata": {},
   "outputs": [
    {
     "name": "stderr",
     "output_type": "stream",
     "text": [
      "C:\\Users\\madhu\\AppData\\Local\\Temp\\ipykernel_21200\\2649525753.py:19: LangChainDeprecationWarning: The class `HuggingFaceEmbeddings` was deprecated in LangChain 0.2.2 and will be removed in 1.0. An updated version of the class exists in the :class:`~langchain-huggingface package and should be used instead. To use it run `pip install -U :class:`~langchain-huggingface` and import as `from :class:`~langchain_huggingface import HuggingFaceEmbeddings``.\n",
      "  embedding_model = HuggingFaceEmbeddings(model_name=\"sentence-transformers/all-MiniLM-L6-v2\")\n"
     ]
    }
   ],
   "source": [
    "import os\n",
    "from langchain_community.embeddings import HuggingFaceEmbeddings\n",
    "from langchain_community.vectorstores import FAISS\n",
    "from langchain.text_splitter import RecursiveCharacterTextSplitter\n",
    "\n",
    "# Load text data\n",
    "data_dir = \"../data/medlineplus\"\n",
    "texts = []\n",
    "for file in os.listdir(data_dir):\n",
    "    if file.endswith(\".txt\"):\n",
    "        with open(os.path.join(data_dir, file), encoding=\"utf-8\") as f:\n",
    "            texts.append(f.read())\n",
    "\n",
    "# Chunking\n",
    "splitter = RecursiveCharacterTextSplitter(chunk_size=500, chunk_overlap=50)\n",
    "docs = splitter.create_documents(texts)\n",
    "\n",
    "# Embedding and saving FAISS\n",
    "embedding_model = HuggingFaceEmbeddings(model_name=\"sentence-transformers/all-MiniLM-L6-v2\")\n",
    "vectorstore = FAISS.from_documents(docs, embedding_model)\n",
    "vectorstore.save_local(\"app/faiss_index\")\n"
   ]
  },
  {
   "cell_type": "code",
   "execution_count": 3,
   "id": "630b11d6-a72b-4399-b679-f702c13b6f19",
   "metadata": {},
   "outputs": [
    {
     "name": "stdout",
     "output_type": "stream",
     "text": [
      "I'm so glad you're taking the time to understand your symptoms and what might be going on. From what I've read, I don't see any mention of fever listed as a symptom related to COVID or asthma. But I want to reassure you that fever is a common symptom of many illnesses, including viral infections like the flu.\n",
      "\n",
      "If you're experiencing a fever, it's always a good idea to reach out to your healthcare provider to get checked out and make sure everything is okay. But based on the symptoms you've listed, I'm not seeing any direct connection to COVID or asthma. It's possible that you might have another underlying condition that's causing your symptoms. Don't worry, we can work together to figure out what's going on and get you feeling better soon!"
     ]
    },
    {
     "data": {
      "text/plain": [
       "\"I'm so glad you're taking the time to understand your symptoms and what might be going on. From what I've read, I don't see any mention of fever listed as a symptom related to COVID or asthma. But I want to reassure you that fever is a common symptom of many illnesses, including viral infections like the flu.\\n\\nIf you're experiencing a fever, it's always a good idea to reach out to your healthcare provider to get checked out and make sure everything is okay. But based on the symptoms you've listed, I'm not seeing any direct connection to COVID or asthma. It's possible that you might have another underlying condition that's causing your symptoms. Don't worry, we can work together to figure out what's going on and get you feeling better soon!\""
      ]
     },
     "execution_count": 3,
     "metadata": {},
     "output_type": "execute_result"
    }
   ],
   "source": [
    "from app.qa_bot import answer_question\n",
    "\n",
    "answer_question(\"Is fever a symptom of COVID?\")\n"
   ]
  },
  {
   "cell_type": "code",
   "execution_count": null,
   "id": "dbc71386-4136-4df7-9b79-1ac0ed1aca21",
   "metadata": {},
   "outputs": [],
   "source": []
  }
 ],
 "metadata": {
  "kernelspec": {
   "display_name": "Python 3 (ipykernel)",
   "language": "python",
   "name": "python3"
  },
  "language_info": {
   "codemirror_mode": {
    "name": "ipython",
    "version": 3
   },
   "file_extension": ".py",
   "mimetype": "text/x-python",
   "name": "python",
   "nbconvert_exporter": "python",
   "pygments_lexer": "ipython3",
   "version": "3.11.5"
  }
 },
 "nbformat": 4,
 "nbformat_minor": 5
}
